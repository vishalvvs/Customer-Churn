{
 "cells": [
  {
   "cell_type": "markdown",
   "metadata": {},
   "source": [
    "### Importing the data"
   ]
  },
  {
   "cell_type": "code",
   "execution_count": 1,
   "metadata": {},
   "outputs": [],
   "source": [
    "# Importing the necessary libraries\n",
    "import warnings\n",
    "warnings.filterwarnings('ignore')\n",
    "\n",
    "#Data Manipulation \n",
    "import numpy as np\n",
    "import pandas as pd\n",
    "import matplotlib.pyplot as plt\n",
    "import seaborn as sns\n",
    "\n",
    "#Model Building and Evaluation\n",
    "from sklearn.preprocessing import MinMaxScaler\n",
    "from sklearn.model_selection import GridSearchCV\n",
    "from sklearn.linear_model import LogisticRegression\n",
    "from sklearn.ensemble import RandomForestClassifier\n",
    "from xgboost import XGBClassifier\n",
    "from sklearn.tree import DecisionTreeClassifier\n",
    "from sklearn.metrics import f1_score,classification_report,accuracy_score,roc_auc_score"
   ]
  },
  {
   "cell_type": "code",
   "execution_count": 2,
   "metadata": {},
   "outputs": [
    {
     "data": {
      "text/html": [
       "<div>\n",
       "<style scoped>\n",
       "    .dataframe tbody tr th:only-of-type {\n",
       "        vertical-align: middle;\n",
       "    }\n",
       "\n",
       "    .dataframe tbody tr th {\n",
       "        vertical-align: top;\n",
       "    }\n",
       "\n",
       "    .dataframe thead th {\n",
       "        text-align: right;\n",
       "    }\n",
       "</style>\n",
       "<table border=\"1\" class=\"dataframe\">\n",
       "  <thead>\n",
       "    <tr style=\"text-align: right;\">\n",
       "      <th></th>\n",
       "      <th>customerID</th>\n",
       "      <th>gender</th>\n",
       "      <th>SeniorCitizen</th>\n",
       "      <th>Partner</th>\n",
       "      <th>Dependents</th>\n",
       "      <th>tenure</th>\n",
       "      <th>PhoneService</th>\n",
       "      <th>MultipleLines</th>\n",
       "      <th>InternetService</th>\n",
       "      <th>OnlineSecurity</th>\n",
       "      <th>...</th>\n",
       "      <th>DeviceProtection</th>\n",
       "      <th>TechSupport</th>\n",
       "      <th>StreamingTV</th>\n",
       "      <th>StreamingMovies</th>\n",
       "      <th>Contract</th>\n",
       "      <th>PaperlessBilling</th>\n",
       "      <th>PaymentMethod</th>\n",
       "      <th>MonthlyCharges</th>\n",
       "      <th>TotalCharges</th>\n",
       "      <th>Churn</th>\n",
       "    </tr>\n",
       "  </thead>\n",
       "  <tbody>\n",
       "    <tr>\n",
       "      <th>0</th>\n",
       "      <td>7590-VHVEG</td>\n",
       "      <td>Female</td>\n",
       "      <td>0</td>\n",
       "      <td>Yes</td>\n",
       "      <td>No</td>\n",
       "      <td>1</td>\n",
       "      <td>No</td>\n",
       "      <td>No phone service</td>\n",
       "      <td>DSL</td>\n",
       "      <td>No</td>\n",
       "      <td>...</td>\n",
       "      <td>No</td>\n",
       "      <td>No</td>\n",
       "      <td>No</td>\n",
       "      <td>No</td>\n",
       "      <td>Month-to-month</td>\n",
       "      <td>Yes</td>\n",
       "      <td>Electronic check</td>\n",
       "      <td>29.85</td>\n",
       "      <td>29.85</td>\n",
       "      <td>No</td>\n",
       "    </tr>\n",
       "    <tr>\n",
       "      <th>1</th>\n",
       "      <td>5575-GNVDE</td>\n",
       "      <td>Male</td>\n",
       "      <td>0</td>\n",
       "      <td>No</td>\n",
       "      <td>No</td>\n",
       "      <td>34</td>\n",
       "      <td>Yes</td>\n",
       "      <td>No</td>\n",
       "      <td>DSL</td>\n",
       "      <td>Yes</td>\n",
       "      <td>...</td>\n",
       "      <td>Yes</td>\n",
       "      <td>No</td>\n",
       "      <td>No</td>\n",
       "      <td>No</td>\n",
       "      <td>One year</td>\n",
       "      <td>No</td>\n",
       "      <td>Mailed check</td>\n",
       "      <td>56.95</td>\n",
       "      <td>1889.5</td>\n",
       "      <td>No</td>\n",
       "    </tr>\n",
       "    <tr>\n",
       "      <th>2</th>\n",
       "      <td>3668-QPYBK</td>\n",
       "      <td>Male</td>\n",
       "      <td>0</td>\n",
       "      <td>No</td>\n",
       "      <td>No</td>\n",
       "      <td>2</td>\n",
       "      <td>Yes</td>\n",
       "      <td>No</td>\n",
       "      <td>DSL</td>\n",
       "      <td>Yes</td>\n",
       "      <td>...</td>\n",
       "      <td>No</td>\n",
       "      <td>No</td>\n",
       "      <td>No</td>\n",
       "      <td>No</td>\n",
       "      <td>Month-to-month</td>\n",
       "      <td>Yes</td>\n",
       "      <td>Mailed check</td>\n",
       "      <td>53.85</td>\n",
       "      <td>108.15</td>\n",
       "      <td>Yes</td>\n",
       "    </tr>\n",
       "    <tr>\n",
       "      <th>3</th>\n",
       "      <td>7795-CFOCW</td>\n",
       "      <td>Male</td>\n",
       "      <td>0</td>\n",
       "      <td>No</td>\n",
       "      <td>No</td>\n",
       "      <td>45</td>\n",
       "      <td>No</td>\n",
       "      <td>No phone service</td>\n",
       "      <td>DSL</td>\n",
       "      <td>Yes</td>\n",
       "      <td>...</td>\n",
       "      <td>Yes</td>\n",
       "      <td>Yes</td>\n",
       "      <td>No</td>\n",
       "      <td>No</td>\n",
       "      <td>One year</td>\n",
       "      <td>No</td>\n",
       "      <td>Bank transfer (automatic)</td>\n",
       "      <td>42.30</td>\n",
       "      <td>1840.75</td>\n",
       "      <td>No</td>\n",
       "    </tr>\n",
       "    <tr>\n",
       "      <th>4</th>\n",
       "      <td>9237-HQITU</td>\n",
       "      <td>Female</td>\n",
       "      <td>0</td>\n",
       "      <td>No</td>\n",
       "      <td>No</td>\n",
       "      <td>2</td>\n",
       "      <td>Yes</td>\n",
       "      <td>No</td>\n",
       "      <td>Fiber optic</td>\n",
       "      <td>No</td>\n",
       "      <td>...</td>\n",
       "      <td>No</td>\n",
       "      <td>No</td>\n",
       "      <td>No</td>\n",
       "      <td>No</td>\n",
       "      <td>Month-to-month</td>\n",
       "      <td>Yes</td>\n",
       "      <td>Electronic check</td>\n",
       "      <td>70.70</td>\n",
       "      <td>151.65</td>\n",
       "      <td>Yes</td>\n",
       "    </tr>\n",
       "  </tbody>\n",
       "</table>\n",
       "<p>5 rows × 21 columns</p>\n",
       "</div>"
      ],
      "text/plain": [
       "   customerID  gender  SeniorCitizen Partner Dependents  tenure PhoneService  \\\n",
       "0  7590-VHVEG  Female              0     Yes         No       1           No   \n",
       "1  5575-GNVDE    Male              0      No         No      34          Yes   \n",
       "2  3668-QPYBK    Male              0      No         No       2          Yes   \n",
       "3  7795-CFOCW    Male              0      No         No      45           No   \n",
       "4  9237-HQITU  Female              0      No         No       2          Yes   \n",
       "\n",
       "      MultipleLines InternetService OnlineSecurity  ... DeviceProtection  \\\n",
       "0  No phone service             DSL             No  ...               No   \n",
       "1                No             DSL            Yes  ...              Yes   \n",
       "2                No             DSL            Yes  ...               No   \n",
       "3  No phone service             DSL            Yes  ...              Yes   \n",
       "4                No     Fiber optic             No  ...               No   \n",
       "\n",
       "  TechSupport StreamingTV StreamingMovies        Contract PaperlessBilling  \\\n",
       "0          No          No              No  Month-to-month              Yes   \n",
       "1          No          No              No        One year               No   \n",
       "2          No          No              No  Month-to-month              Yes   \n",
       "3         Yes          No              No        One year               No   \n",
       "4          No          No              No  Month-to-month              Yes   \n",
       "\n",
       "               PaymentMethod MonthlyCharges  TotalCharges Churn  \n",
       "0           Electronic check          29.85         29.85    No  \n",
       "1               Mailed check          56.95        1889.5    No  \n",
       "2               Mailed check          53.85        108.15   Yes  \n",
       "3  Bank transfer (automatic)          42.30       1840.75    No  \n",
       "4           Electronic check          70.70        151.65   Yes  \n",
       "\n",
       "[5 rows x 21 columns]"
      ]
     },
     "execution_count": 2,
     "metadata": {},
     "output_type": "execute_result"
    }
   ],
   "source": [
    "df = pd.read_csv(\"Churn.csv\")\n",
    "df.head()"
   ]
  },
  {
   "cell_type": "markdown",
   "metadata": {},
   "source": [
    "### Understanding the data"
   ]
  },
  {
   "cell_type": "code",
   "execution_count": 4,
   "metadata": {},
   "outputs": [
    {
     "name": "stdout",
     "output_type": "stream",
     "text": [
      "<class 'pandas.core.frame.DataFrame'>\n",
      "RangeIndex: 7043 entries, 0 to 7042\n",
      "Data columns (total 21 columns):\n",
      " #   Column            Non-Null Count  Dtype  \n",
      "---  ------            --------------  -----  \n",
      " 0   customerID        7043 non-null   object \n",
      " 1   gender            7043 non-null   object \n",
      " 2   SeniorCitizen     7043 non-null   int64  \n",
      " 3   Partner           7043 non-null   object \n",
      " 4   Dependents        7043 non-null   object \n",
      " 5   tenure            7043 non-null   int64  \n",
      " 6   PhoneService      7043 non-null   object \n",
      " 7   MultipleLines     7043 non-null   object \n",
      " 8   InternetService   7043 non-null   object \n",
      " 9   OnlineSecurity    7043 non-null   object \n",
      " 10  OnlineBackup      7043 non-null   object \n",
      " 11  DeviceProtection  7043 non-null   object \n",
      " 12  TechSupport       7043 non-null   object \n",
      " 13  StreamingTV       7043 non-null   object \n",
      " 14  StreamingMovies   7043 non-null   object \n",
      " 15  Contract          7043 non-null   object \n",
      " 16  PaperlessBilling  7043 non-null   object \n",
      " 17  PaymentMethod     7043 non-null   object \n",
      " 18  MonthlyCharges    7043 non-null   float64\n",
      " 19  TotalCharges      7043 non-null   object \n",
      " 20  Churn             7043 non-null   object \n",
      "dtypes: float64(1), int64(2), object(18)\n",
      "memory usage: 1.1+ MB\n"
     ]
    }
   ],
   "source": [
    "df.info()"
   ]
  },
  {
   "cell_type": "code",
   "execution_count": 5,
   "metadata": {},
   "outputs": [],
   "source": [
    "len(df[\"customerID\"].unique())\n",
    "# WOnt be of much use as all unique values\n",
    "df.drop(\"customerID\",axis=1,inplace=True)"
   ]
  },
  {
   "cell_type": "code",
   "execution_count": 6,
   "metadata": {},
   "outputs": [
    {
     "data": {
      "text/plain": [
       "0    5901\n",
       "1    1142\n",
       "Name: SeniorCitizen, dtype: int64"
      ]
     },
     "execution_count": 6,
     "metadata": {},
     "output_type": "execute_result"
    }
   ],
   "source": [
    "# Senior Citizen and TotalCHarges datatypes may be an issue\n",
    "df[\"SeniorCitizen\"].value_counts()\n",
    "# will do as no need to ENcode now"
   ]
  },
  {
   "cell_type": "code",
   "execution_count": 7,
   "metadata": {},
   "outputs": [],
   "source": [
    "df[\"TotalCharges\"].replace(\" \",np.nan,inplace = True)"
   ]
  },
  {
   "cell_type": "code",
   "execution_count": 8,
   "metadata": {},
   "outputs": [],
   "source": [
    "df.dropna(inplace=True)\n",
    "df[\"TotalCharges\"] = df[\"TotalCharges\"].astype(\"float\")"
   ]
  },
  {
   "cell_type": "code",
   "execution_count": 9,
   "metadata": {},
   "outputs": [
    {
     "data": {
      "text/html": [
       "<div>\n",
       "<style scoped>\n",
       "    .dataframe tbody tr th:only-of-type {\n",
       "        vertical-align: middle;\n",
       "    }\n",
       "\n",
       "    .dataframe tbody tr th {\n",
       "        vertical-align: top;\n",
       "    }\n",
       "\n",
       "    .dataframe thead th {\n",
       "        text-align: right;\n",
       "    }\n",
       "</style>\n",
       "<table border=\"1\" class=\"dataframe\">\n",
       "  <thead>\n",
       "    <tr style=\"text-align: right;\">\n",
       "      <th></th>\n",
       "      <th>SeniorCitizen</th>\n",
       "      <th>tenure</th>\n",
       "      <th>MonthlyCharges</th>\n",
       "      <th>TotalCharges</th>\n",
       "    </tr>\n",
       "  </thead>\n",
       "  <tbody>\n",
       "    <tr>\n",
       "      <th>count</th>\n",
       "      <td>7032.000000</td>\n",
       "      <td>7032.000000</td>\n",
       "      <td>7032.000000</td>\n",
       "      <td>7032.000000</td>\n",
       "    </tr>\n",
       "    <tr>\n",
       "      <th>mean</th>\n",
       "      <td>0.162400</td>\n",
       "      <td>32.421786</td>\n",
       "      <td>64.798208</td>\n",
       "      <td>2283.300441</td>\n",
       "    </tr>\n",
       "    <tr>\n",
       "      <th>std</th>\n",
       "      <td>0.368844</td>\n",
       "      <td>24.545260</td>\n",
       "      <td>30.085974</td>\n",
       "      <td>2266.771362</td>\n",
       "    </tr>\n",
       "    <tr>\n",
       "      <th>min</th>\n",
       "      <td>0.000000</td>\n",
       "      <td>1.000000</td>\n",
       "      <td>18.250000</td>\n",
       "      <td>18.800000</td>\n",
       "    </tr>\n",
       "    <tr>\n",
       "      <th>25%</th>\n",
       "      <td>0.000000</td>\n",
       "      <td>9.000000</td>\n",
       "      <td>35.587500</td>\n",
       "      <td>401.450000</td>\n",
       "    </tr>\n",
       "    <tr>\n",
       "      <th>50%</th>\n",
       "      <td>0.000000</td>\n",
       "      <td>29.000000</td>\n",
       "      <td>70.350000</td>\n",
       "      <td>1397.475000</td>\n",
       "    </tr>\n",
       "    <tr>\n",
       "      <th>75%</th>\n",
       "      <td>0.000000</td>\n",
       "      <td>55.000000</td>\n",
       "      <td>89.862500</td>\n",
       "      <td>3794.737500</td>\n",
       "    </tr>\n",
       "    <tr>\n",
       "      <th>max</th>\n",
       "      <td>1.000000</td>\n",
       "      <td>72.000000</td>\n",
       "      <td>118.750000</td>\n",
       "      <td>8684.800000</td>\n",
       "    </tr>\n",
       "  </tbody>\n",
       "</table>\n",
       "</div>"
      ],
      "text/plain": [
       "       SeniorCitizen       tenure  MonthlyCharges  TotalCharges\n",
       "count    7032.000000  7032.000000     7032.000000   7032.000000\n",
       "mean        0.162400    32.421786       64.798208   2283.300441\n",
       "std         0.368844    24.545260       30.085974   2266.771362\n",
       "min         0.000000     1.000000       18.250000     18.800000\n",
       "25%         0.000000     9.000000       35.587500    401.450000\n",
       "50%         0.000000    29.000000       70.350000   1397.475000\n",
       "75%         0.000000    55.000000       89.862500   3794.737500\n",
       "max         1.000000    72.000000      118.750000   8684.800000"
      ]
     },
     "execution_count": 9,
     "metadata": {},
     "output_type": "execute_result"
    }
   ],
   "source": [
    "df.describe()"
   ]
  },
  {
   "cell_type": "code",
   "execution_count": 12,
   "metadata": {},
   "outputs": [
    {
     "data": {
      "text/plain": [
       "['SeniorCitizen', 'tenure', 'MonthlyCharges', 'TotalCharges']"
      ]
     },
     "execution_count": 12,
     "metadata": {},
     "output_type": "execute_result"
    }
   ],
   "source": [
    "num_var = [ x for x in df.columns if df[x].dtype!=\"O\"]\n",
    "num_var"
   ]
  },
  {
   "cell_type": "code",
   "execution_count": 13,
   "metadata": {},
   "outputs": [
    {
     "data": {
      "text/plain": [
       "['gender',\n",
       " 'Partner',\n",
       " 'Dependents',\n",
       " 'PhoneService',\n",
       " 'PaperlessBilling',\n",
       " 'Churn']"
      ]
     },
     "execution_count": 13,
     "metadata": {},
     "output_type": "execute_result"
    }
   ],
   "source": [
    "bin_cat_var = [x for x in df.columns if df[x].dtype==\"O\" and len(df[x].unique())==2]\n",
    "bin_cat_var"
   ]
  },
  {
   "cell_type": "code",
   "execution_count": 15,
   "metadata": {},
   "outputs": [
    {
     "data": {
      "text/plain": [
       "['MultipleLines',\n",
       " 'InternetService',\n",
       " 'OnlineSecurity',\n",
       " 'OnlineBackup',\n",
       " 'DeviceProtection',\n",
       " 'TechSupport',\n",
       " 'StreamingTV',\n",
       " 'StreamingMovies',\n",
       " 'Contract',\n",
       " 'PaymentMethod']"
      ]
     },
     "execution_count": 15,
     "metadata": {},
     "output_type": "execute_result"
    }
   ],
   "source": [
    "multi_cat_var = [x for x in df.columns if df[x].dtype==\"O\" and len(df[x].unique())>2]\n",
    "multi_cat_var"
   ]
  },
  {
   "cell_type": "code",
   "execution_count": 36,
   "metadata": {},
   "outputs": [
    {
     "name": "stdout",
     "output_type": "stream",
     "text": [
      "MultipleLines: ['No' 'Yes']\n",
      "InternetService: ['DSL' 'Fiber optic' 'No']\n",
      "OnlineSecurity: ['No' 'Yes']\n",
      "OnlineBackup: ['Yes' 'No']\n",
      "DeviceProtection: ['No' 'Yes']\n",
      "TechSupport: ['No' 'Yes']\n",
      "StreamingTV: ['No' 'Yes']\n",
      "StreamingMovies: ['No' 'Yes']\n",
      "Contract: ['Month-to-month' 'One year' 'Two year']\n",
      "PaymentMethod: ['Electronic check' 'Mailed check' 'Bank Transfer' 'Credit Card']\n"
     ]
    }
   ],
   "source": [
    "for col in multi_cat_var:\n",
    "    print(f'{col}: {df[col].unique()}')"
   ]
  },
  {
   "cell_type": "markdown",
   "metadata": {},
   "source": [
    "### Data Manipulation"
   ]
  },
  {
   "cell_type": "code",
   "execution_count": 20,
   "metadata": {},
   "outputs": [],
   "source": [
    "# Online Security,OnlineBackup,DeviceProtection,TechSupport,StreamingTV,StreamingMovies have a category\n",
    "# No internet Service, this can be replaced with NO as both signigy that the customer doesnt has an Online Use \n",
    "# of that particular feature.\n",
    "df.replace(\"No internet service\",\"No\",inplace = True)\n",
    "\n",
    "## Same can be done with No phone Service for the MultipleLines feature\n",
    "df.replace(\"No phone service\",\"No\",inplace=True)"
   ]
  },
  {
   "cell_type": "code",
   "execution_count": 37,
   "metadata": {},
   "outputs": [],
   "source": [
    "df[\"PaymentMethod\"].replace(\"Bank transfer (automatic)\",\"Bank Transfer\",inplace=True)\n",
    "df[\"PaymentMethod\"].replace(\"Credit card (automatic)\",\"Credit Card\",inplace=True)\n",
    "df[\"Contract\"].replace(\"Month-to-month\",\"Monthly\",inplace=True)"
   ]
  },
  {
   "cell_type": "code",
   "execution_count": 21,
   "metadata": {},
   "outputs": [
    {
     "name": "stdout",
     "output_type": "stream",
     "text": [
      "No     5163\n",
      "Yes    1869\n",
      "Name: Churn, dtype: int64\n",
      "Percentage Majority to Minority: 2.7624398073836276\n"
     ]
    }
   ],
   "source": [
    "n = df[\"Churn\"].value_counts()[0]\n",
    "y = df[\"Churn\"].value_counts()[1]\n",
    "print(df[\"Churn\"].value_counts())\n",
    "# Clear Imbalance,\n",
    "print(\"Percentage Majority to Minority:\",n/y)"
   ]
  },
  {
   "cell_type": "code",
   "execution_count": 22,
   "metadata": {},
   "outputs": [],
   "source": [
    "df[\"Discount\"] = df['tenure']*df['MonthlyCharges'] -df[\"TotalCharges\"]\n",
    "# Adding a new feature for better understanding\n",
    "# Some Discount has been awarded or some extra amount has been charged"
   ]
  },
  {
   "cell_type": "code",
   "execution_count": 23,
   "metadata": {},
   "outputs": [],
   "source": [
    "t = []\n",
    "for i in df[\"tenure\"]:\n",
    "    if i<=12:\n",
    "        t.append(1)\n",
    "    elif 12<i<=24:\n",
    "        t.append(2)\n",
    "    elif 24<i<=36:\n",
    "        t.append(3)\n",
    "    elif 36<i<=48:\n",
    "        t.append(4)\n",
    "    elif 48<i<=60:\n",
    "        t.append(5)\n",
    "    else :\n",
    "        t.append(6)\n",
    "df[\"Tenure_less_than\"] = t\n",
    "# Just for Visualization Purposes\n",
    "# Splitting Tenure into number of years "
   ]
  },
  {
   "cell_type": "markdown",
   "metadata": {},
   "source": [
    "### Data Visualization"
   ]
  },
  {
   "cell_type": "markdown",
   "metadata": {},
   "source": [
    "#### 1.Numerical Features"
   ]
  },
  {
   "cell_type": "code",
   "execution_count": 28,
   "metadata": {},
   "outputs": [
    {
     "data": {
      "text/plain": [
       "<AxesSubplot:>"
      ]
     },
     "execution_count": 28,
     "metadata": {},
     "output_type": "execute_result"
    },
    {
     "data": {
      "image/png": "[encoded data removed]",
      "text/plain": [
       "<Figure size 432x288 with 2 Axes>"
      ]
     },
     "metadata": {
      "needs_background": "light"
     },
     "output_type": "display_data"
    }
   ],
   "source": [
    "# num_var.pop(0)\n",
    "num_var.append(\"Discount\")\n",
    "sns.heatmap(df[num_var].corr(),annot = True)\n",
    "# We can drop either the tenure or TotalCharges\n",
    "# Dropping TotalCharges will be appropriate considering relative correlation with MonthlyCharges"
   ]
  },
  {
   "cell_type": "code",
   "execution_count": 29,
   "metadata": {},
   "outputs": [
    {
     "data": {
      "text/plain": [
       "<AxesSubplot:xlabel='tenure', ylabel='TotalCharges'>"
      ]
     },
     "execution_count": 29,
     "metadata": {},
     "output_type": "execute_result"
    },
    {
     "data": {
      "image/png": "[encoded data removed]",
      "text/plain": [
       "<Figure size 432x288 with 1 Axes>"
      ]
     },
     "metadata": {
      "needs_background": "light"
     },
     "output_type": "display_data"
    }
   ],
   "source": [
    "sns.lineplot(df[\"tenure\"],df[\"TotalCharges\"])\n",
    "# High Correlation"
   ]
  },
  {
   "cell_type": "markdown",
   "metadata": {},
   "source": [
    "#### 2.Categorical Features"
   ]
  },
  {
   "cell_type": "code",
   "execution_count": 30,
   "metadata": {},
   "outputs": [
    {
     "data": {
      "image/png": "[encoded data removed]",
      "text/plain": [
       "<Figure size 432x288 with 2 Axes>"
      ]
     },
     "metadata": {},
     "output_type": "display_data"
    }
   ],
   "source": [
    "def pie(x):\n",
    "    sorted_counts = df[x].value_counts()\n",
    "    plt.pie(sorted_counts, labels=sorted_counts.index, startangle=90,\n",
    "            counterclock = False, autopct = '%.1f%%',shadow = True, colors =[\"m\",\"orange\"]);\n",
    "    plt.axis('square')\n",
    "    \n",
    "plt.subplot(121)\n",
    "plt.title('Gender')\n",
    "pie('gender')\n",
    "\n",
    "plt.subplot(122)\n",
    "plt.title('Senior Citizen')\n",
    "pie('SeniorCitizen')\n",
    "\n",
    "plt.show()"
   ]
  },
  {
   "cell_type": "code",
   "execution_count": 31,
   "metadata": {},
   "outputs": [
    {
     "data": {
      "image/png": "[encoded data removed]",
      "text/plain": [
       "<Figure size 432x288 with 2 Axes>"
      ]
     },
     "metadata": {},
     "output_type": "display_data"
    }
   ],
   "source": [
    "plt.subplot(121)\n",
    "\n",
    "plt.title(\"Partner\")\n",
    "pie('Partner')\n",
    "\n",
    "plt.subplot(122)\n",
    "plt.title('Dependants')\n",
    "pie('Dependents')\n",
    "plt.show()"
   ]
  },
  {
   "cell_type": "code",
   "execution_count": 32,
   "metadata": {},
   "outputs": [
    {
     "data": {
      "text/plain": [
       "<AxesSubplot:xlabel='Tenure_less_than', ylabel='count'>"
      ]
     },
     "execution_count": 32,
     "metadata": {},
     "output_type": "execute_result"
    },
    {
     "data": {
      "image/png": "[encoded data removed]",
      "text/plain": [
       "<Figure size 432x288 with 1 Axes>"
      ]
     },
     "metadata": {
      "needs_background": "light"
     },
     "output_type": "display_data"
    }
   ],
   "source": [
    "sns.countplot(df[\"Tenure_less_than\"],hue = df[\"Churn\"])\n",
    "# CHecking the churn distribution w.r.t to the tenure\n",
    "# High for tenure less than 1 year"
   ]
  },
  {
   "cell_type": "code",
   "execution_count": 42,
   "metadata": {},
   "outputs": [
    {
     "data": {
      "image/png": "[encoded data removed]",
      "text/plain": [
       "<Figure size 1800x1440 with 10 Axes>"
      ]
     },
     "metadata": {
      "needs_background": "light"
     },
     "output_type": "display_data"
    }
   ],
   "source": [
    "req_cols = df.iloc[:,6:-6]\n",
    "plt.figure(figsize=(25,20))\n",
    "for i, feature in enumerate(list(req_cols.columns)):\n",
    "    plt.subplot(3,4,i+1)\n",
    "    sns.countplot(feature,hue = df.Churn,data=df)\n",
    "    plt.ylim(0,5000)\n",
    "    plt.title('{} VS Churn'.format(feature))\n",
    "plt.show()\n",
    "\n",
    "# Gives a Clear Understanding of the Churn Distribution in the Categorical Features"
   ]
  },
  {
   "cell_type": "code",
   "execution_count": 38,
   "metadata": {},
   "outputs": [
    {
     "data": {
      "text/plain": [
       "<AxesSubplot:xlabel='PaymentMethod', ylabel='count'>"
      ]
     },
     "execution_count": 38,
     "metadata": {},
     "output_type": "execute_result"
    },
    {
     "data": {
      "image/png": "[encoded data removed]",
      "text/plain": [
       "<Figure size 432x288 with 1 Axes>"
      ]
     },
     "metadata": {
      "needs_background": "light"
     },
     "output_type": "display_data"
    }
   ],
   "source": [
    "sns.countplot(df[\"PaymentMethod\"], hue = df[\"Churn\"])"
   ]
  },
  {
   "cell_type": "code",
   "execution_count": 40,
   "metadata": {},
   "outputs": [
    {
     "name": "stdout",
     "output_type": "stream",
     "text": [
      "Percentage of Senior Citizens Churning out: 41.68126094570928\n",
      "Percentage of Dependants Churning Out: 15.531205335874226\n",
      "Percentage of People Not having Online Security who churned Out: 31.37333067570261\n",
      "Percentage of People having Tenure less than 6 months who churned Out: 53.333333333333336\n",
      "Percentage of people having Monthly Contract Churning out: 42.70967741935484\n",
      "Percentage of people having internet as Fibre Optic Churning out: 41.89276485788114\n",
      "Percentage of people having Paperless Billing Churning out: 33.589251439539346\n"
     ]
    }
   ],
   "source": [
    "## Numerically Signifying the above plots\n",
    "print(\"Percentage of Senior Citizens Churning out:\",end = \" \")\n",
    "print(df.query(\"SeniorCitizen==1 and Churn== 'Yes'\").shape[0] *100/ df[df[\"SeniorCitizen\"]==1].shape[0])\n",
    "print(\"Percentage of Dependants Churning Out:\",end = \" \")\n",
    "print(df.query(\"Dependents=='Yes' and Churn== 'Yes'\").shape[0] *100/ df[df[\"Dependents\"]=='Yes'].shape[0])\n",
    "print(\"Percentage of People Not having Online Security who churned Out:\",end = \" \")\n",
    "print(df.query(\"OnlineSecurity=='No' and Churn=='Yes'\").shape[0] *100/ df[df[\"OnlineSecurity\"]=='No'].shape[0])\n",
    "print(\"Percentage of People having Tenure less than 6 months who churned Out:\",end = \" \")\n",
    "print(df.query(\"tenure <=6 and Churn=='Yes'\").shape[0] *100/ df[df[\"tenure\"]<=6].shape[0])\n",
    "print(\"Percentage of people having Monthly Contract Churning out:\",end = \" \")\n",
    "print(df.query(\"Contract =='Monthly' and Churn=='Yes'\").shape[0] *100/df[df[\"Contract\"]=='Monthly'].shape[0])\n",
    "print(\"Percentage of people having internet as Fibre Optic Churning out:\",end = \" \")\n",
    "print(df.query(\"InternetService =='Fiber optic' and Churn=='Yes'\").shape[0] *100/df[df[\"InternetService\"]=='Fiber optic'].shape[0] )\n",
    "\n",
    "print(\"Percentage of people having Paperless Billing Churning out:\",end = \" \")\n",
    "print(df.query(\"PaperlessBilling =='Yes' and Churn=='Yes'\").shape[0] *100/ df[df[\"PaperlessBilling\"]==\"Yes\"].shape[0])\n"
   ]
  },
  {
   "cell_type": "markdown",
   "metadata": {},
   "source": [
    "##### Conclusion: What all did you understand from the above charts\n",
    "1. Tha dataset is imbalanced with an approx ratio of 2.75:1 (majority:minority)\n",
    "2. Tenure is an important column as about 53.3% people churn out in the starting 6 months\n",
    "3. Senior Citizens churn at a rate of 41.7%\n",
    "4. Users with no Online Security churn at a rate of 31.4%\n",
    "5. People With Monthly Contracts churn at a rate of 42.7% \n",
    "6. Approx 42% of users with Internet Service as Fiber Optic are likely to Churn\n",
    "7. 33.6% of the people opting for Paperless Billing are likely to leave the company\n",
    "8. Discrpancy between Total Charge applied and Total Charge that should have been applied signifies that some amount has been given as a Discount or been charged extra in few cases"
   ]
  },
  {
   "cell_type": "markdown",
   "metadata": {},
   "source": [
    "### Implement Machine Learning Models"
   ]
  },
  {
   "cell_type": "code",
   "execution_count": null,
   "metadata": {},
   "outputs": [],
   "source": [
    "## Preparing the data for the model"
   ]
  },
  {
   "cell_type": "code",
   "execution_count": 45,
   "metadata": {},
   "outputs": [],
   "source": [
    "# df.drop(\"TotalCharges\",axis=1,inplace=True)\n",
    "cols_to_scale = ['tenure','MonthlyCharges','Discount']\n",
    "\n",
    "from sklearn.preprocessing import MinMaxScaler\n",
    "scaler = MinMaxScaler()\n",
    "df[cols_to_scale] = scaler.fit_transform(df[cols_to_scale])"
   ]
  },
  {
   "cell_type": "code",
   "execution_count": 53,
   "metadata": {},
   "outputs": [],
   "source": [
    "yes_no_columns = ['Partner','Dependents','PhoneService','MultipleLines','OnlineSecurity','OnlineBackup',\n",
    "                  'DeviceProtection','TechSupport','StreamingTV','StreamingMovies','PaperlessBilling','Churn']\n",
    "for col in yes_no_columns:\n",
    "    df[col].replace({'Yes': 1,'No': 0},inplace=True)"
   ]
  },
  {
   "cell_type": "code",
   "execution_count": 56,
   "metadata": {},
   "outputs": [],
   "source": [
    "# Encoding Gender Column\n",
    "df['gender'].replace({'Female':1,'Male':0},inplace=True)"
   ]
  },
  {
   "cell_type": "code",
   "execution_count": 57,
   "metadata": {},
   "outputs": [
    {
     "data": {
      "text/plain": [
       "Index(['gender', 'SeniorCitizen', 'Partner', 'Dependents', 'tenure',\n",
       "       'PhoneService', 'MultipleLines', 'OnlineSecurity', 'OnlineBackup',\n",
       "       'DeviceProtection', 'TechSupport', 'StreamingTV', 'StreamingMovies',\n",
       "       'PaperlessBilling', 'MonthlyCharges', 'Churn', 'Discount',\n",
       "       'Tenure_less_than', 'InternetService_DSL',\n",
       "       'InternetService_Fiber optic', 'InternetService_No', 'Contract_Monthly',\n",
       "       'Contract_One year', 'Contract_Two year', 'PaymentMethod_Bank Transfer',\n",
       "       'PaymentMethod_Credit Card', 'PaymentMethod_Electronic check',\n",
       "       'PaymentMethod_Mailed check'],\n",
       "      dtype='object')"
      ]
     },
     "execution_count": 57,
     "metadata": {},
     "output_type": "execute_result"
    }
   ],
   "source": [
    "# One Hot Encoding\n",
    "df2 = pd.get_dummies(data=df, columns=['InternetService','Contract','PaymentMethod'])\n",
    "df2.columns"
   ]
  },
  {
   "cell_type": "code",
   "execution_count": 59,
   "metadata": {},
   "outputs": [],
   "source": [
    "X = df2.drop('Churn',axis='columns')\n",
    "y = df2.Churn\n",
    "## Manual Train Test SPlit as per the requirment\n",
    "X_train = X.iloc[:4000,:]\n",
    "X_test = X.iloc[4000:]\n",
    "y_train = y.iloc[:4000]\n",
    "y_test = y.iloc[4000:]"
   ]
  },
  {
   "cell_type": "code",
   "execution_count": 62,
   "metadata": {},
   "outputs": [
    {
     "name": "stdout",
     "output_type": "stream",
     "text": [
      "              precision    recall  f1-score   support\n",
      "\n",
      "           0       0.81      0.81      0.81      2221\n",
      "           1       0.48      0.49      0.49       811\n",
      "\n",
      "    accuracy                           0.72      3032\n",
      "   macro avg       0.65      0.65      0.65      3032\n",
      "weighted avg       0.72      0.72      0.72      3032\n",
      "\n"
     ]
    }
   ],
   "source": [
    "## Making a Default Decision Tree with no tuning\n",
    "dt = DecisionTreeClassifier()\n",
    "dt.fit(X_train,y_train)\n",
    "print(classification_report(y_test,dt.predict(X_test)))\n",
    "## Here Accuracy doesn't matters as the data is imbalanced\n",
    "## We are concerned in improving f1-score\n",
    "## Below Report Shows a Clear Overfitting"
   ]
  },
  {
   "cell_type": "code",
   "execution_count": 63,
   "metadata": {},
   "outputs": [],
   "source": [
    "### Now usine SMOTE to oversample the dataset\n",
    "from imblearn.over_sampling import SMOTE\n",
    "sm = SMOTE(sampling_strategy = \"minority\")\n",
    "X_sm,y_sm = sm.fit_resample(X,y)\n",
    "# Doing the oversampling on the entire dataset\n",
    "# Oversampling on the subset of dataset as per the question wasn't giving a generalized model\n",
    "# The subset oversampled results will be provided in my Github Repository."
   ]
  },
  {
   "cell_type": "code",
   "execution_count": 65,
   "metadata": {},
   "outputs": [
    {
     "name": "stdout",
     "output_type": "stream",
     "text": [
      "Shape; (10326,)\n"
     ]
    },
    {
     "data": {
      "text/plain": [
       "1    5163\n",
       "0    5163\n",
       "Name: Churn, dtype: int64"
      ]
     },
     "execution_count": 65,
     "metadata": {},
     "output_type": "execute_result"
    }
   ],
   "source": [
    "print(\"Shape;\",y_sm.shape)\n",
    "y_sm.value_counts()"
   ]
  },
  {
   "cell_type": "code",
   "execution_count": 67,
   "metadata": {},
   "outputs": [],
   "source": [
    "from sklearn.model_selection import train_test_split\n",
    "X_train, X_test, y_train, y_test = train_test_split(X_sm, y_sm, test_size=0.25, random_state=15, stratify=y_sm)"
   ]
  },
  {
   "cell_type": "code",
   "execution_count": 68,
   "metadata": {},
   "outputs": [],
   "source": [
    "from sklearn.pipeline import Pipeline\n",
    "pipeline_lr=Pipeline([('lr_classifier',LogisticRegression(random_state=0))])\n",
    "\n",
    "pipeline_dt=Pipeline([('dt_classifier',DecisionTreeClassifier())])\n",
    "\n",
    "pipeline_randomforest=Pipeline([('rf_classifier',RandomForestClassifier())])\n",
    "\n",
    "pipeline_xgb =Pipeline([('xg_classifier',XGBClassifier())])"
   ]
  },
  {
   "cell_type": "code",
   "execution_count": 69,
   "metadata": {},
   "outputs": [],
   "source": [
    "pipelines = [pipeline_lr, pipeline_dt, pipeline_randomforest,pipeline_xgb]\n",
    "best_accuracy=0.0\n",
    "best_classifier=0\n",
    "best_pipeline=\"\""
   ]
  },
  {
   "cell_type": "code",
   "execution_count": 70,
   "metadata": {},
   "outputs": [
    {
     "name": "stdout",
     "output_type": "stream",
     "text": [
      "[22:45:30] WARNING: C:/Users/Administrator/workspace/xgboost-win64_release_1.3.0/src/learner.cc:1061: Starting in XGBoost 1.3.0, the default evaluation metric used with the objective 'binary:logistic' was changed from 'error' to 'logloss'. Explicitly set eval_metric if you'd like to restore the old behavior.\n"
     ]
    }
   ],
   "source": [
    "# Dictionary of pipelines and classifier types for ease of reference\n",
    "pipe_dict = {0: 'Logistic Regression', 1: 'Decision Tree', 2: 'RandomForest',3:\"XGBoost\"}\n",
    "\n",
    "# Fit the pipelines\n",
    "for pipe in pipelines:\n",
    "\tpipe.fit(X_train, y_train)"
   ]
  },
  {
   "cell_type": "code",
   "execution_count": 71,
   "metadata": {},
   "outputs": [
    {
     "name": "stdout",
     "output_type": "stream",
     "text": [
      "Logistic Regression Test F1 Score: 0.8095781071835804\n",
      "Decision Tree Test F1 Score: 0.7854938271604938\n",
      "RandomForest Test F1 Score: 0.8492003046458492\n",
      "XGBoost Test F1 Score: 0.8379506641366223\n"
     ]
    }
   ],
   "source": [
    "for i,model in enumerate(pipelines):\n",
    "    print(\"{} Test F1 Score: {}\".format(pipe_dict[i],f1_score(y_test,model.predict(X_test))))"
   ]
  },
  {
   "cell_type": "code",
   "execution_count": 72,
   "metadata": {},
   "outputs": [
    {
     "name": "stdout",
     "output_type": "stream",
     "text": [
      "Fitting 3 folds for each of 256 candidates, totalling 768 fits\n"
     ]
    }
   ],
   "source": [
    "## Hyperparameter Tuning On Random Forest\n",
    "n_estimators = [100, 300, 500,800]\n",
    "max_depth = [5, 8, 15, 25]\n",
    "min_samples_split = [2, 5, 10, 15]\n",
    "min_samples_leaf = [1, 2, 5, 10] \n",
    "\n",
    "hyperF = dict(n_estimators = n_estimators, max_depth = max_depth,  \n",
    "              min_samples_split = min_samples_split, \n",
    "             min_samples_leaf = min_samples_leaf)\n",
    "\n",
    "gridF = GridSearchCV(RandomForestClassifier(), hyperF, cv = 3, verbose = 1, \n",
    "                      n_jobs = -1)\n",
    "bestF = gridF.fit(X_train, y_train)"
   ]
  },
  {
   "cell_type": "markdown",
   "metadata": {},
   "source": [
    "### Model Evaluation"
   ]
  },
  {
   "cell_type": "code",
   "execution_count": 73,
   "metadata": {},
   "outputs": [],
   "source": [
    "y_pred = bestF.predict(X_test)"
   ]
  },
  {
   "cell_type": "code",
   "execution_count": 75,
   "metadata": {},
   "outputs": [
    {
     "name": "stdout",
     "output_type": "stream",
     "text": [
      "              precision    recall  f1-score   support\n",
      "\n",
      "           0       0.86      0.83      0.84      1291\n",
      "           1       0.83      0.87      0.85      1291\n",
      "\n",
      "    accuracy                           0.85      2582\n",
      "   macro avg       0.85      0.85      0.85      2582\n",
      "weighted avg       0.85      0.85      0.85      2582\n",
      "\n"
     ]
    }
   ],
   "source": [
    "print(classification_report(y_test,y_pred))"
   ]
  },
  {
   "cell_type": "code",
   "execution_count": 76,
   "metadata": {},
   "outputs": [
    {
     "data": {
      "text/plain": [
       "0.8481797056545314"
      ]
     },
     "execution_count": 76,
     "metadata": {},
     "output_type": "execute_result"
    }
   ],
   "source": [
    "from sklearn.metrics import roc_auc_score\n",
    "roc_auc_score(y_test,y_pred)\n",
    "# Good ROC_AUC score as well"
   ]
  },
  {
   "cell_type": "markdown",
   "metadata": {},
   "source": [
    "### Final Conclusions"
   ]
  },
  {
   "cell_type": "markdown",
   "metadata": {},
   "source": [
    "1. Machine Learning is an interative process, The above Optimations can be further improved by using other algorithms\n",
    "   or ensembling \n",
    "2. OverSampling was Used in the problem to balance out the class label count\n",
    "3. As per the EDA done, the prime focus of the company must be on the retention of the following:\n",
    "\n",
    "   a) Senior Citizens.\n",
    "   b) Internet Service on FIber Optic.\n",
    "   c) Monthly Subscribers.\n",
    "   d) Customer Retention for the early 6 month period.\n",
    "   e) Paperless Billing Users\n",
    "   \n",
    "   \n",
    "4. If implemented, the correct way of Analysis Will be going back to statistical measures of the Churn rate\n",
    "   after implementation of the revised policies\n",
    "5. However, other factors of Policy formation and Customer Satisfaction via feedbacks must also be considered as an out of the scope approach for the problem"
   ]
  },
  {
   "cell_type": "code",
   "execution_count": null,
   "metadata": {},
   "outputs": [],
   "source": []
  }
 ],
 "metadata": {
  "kernelspec": {
   "display_name": "Python 3",
   "language": "python",
   "name": "python3"
  },
  "language_info": {
   "codemirror_mode": {
    "name": "ipython",
    "version": 3
   },
   "file_extension": ".py",
   "mimetype": "text/x-python",
   "name": "python",
   "nbconvert_exporter": "python",
   "pygments_lexer": "ipython3",
   "version": "3.7.6"
  }
 },
 "nbformat": 4,
 "nbformat_minor": 2
}
